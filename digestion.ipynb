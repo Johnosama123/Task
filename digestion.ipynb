{
 "cells": [
  {
   "cell_type": "code",
   "execution_count": 3,
   "id": "1a4bbcf4",
   "metadata": {},
   "outputs": [
    {
     "name": "stdout",
     "output_type": "stream",
     "text": [
      "Trypsin\n",
      "MLLPLYGLASFLVLSQAALVNTSAPQASNDDPFNHSPSFYPTPQGGRINDGKWQAAFYRARELVDQMSIAEKVNLTTGVGSASGPCSGNTGSVPRLNISSICVQDGPLSVRAADLTDVFPCGMAASSSFNKQLIYDRAVAIGSEFKGKGADAILGPVYGPMGVKAAGGRGWEGHGPDPYLEGVIAYLQTIGIQSQGVVSTAKHLIGNEQEHFRFAKKDKHAGKIDPGMFNTSSSLSSEIDDRAMHEIYLWPFAEAVRGGVSSIMCSYNKLNGSHACQNSYLLNYLLKEELGFQGFVMTDWGALYSGIDAANAGLDMDMPCEAQYFGGNLTTAVLNGTLPQDRLDDMATRILSALIYSGVHNPDGPNYNAQTFLTEGHEYFKQQEGDIVVLNKHVDVRSDINRAVALRSAVEGVVLLKNEHETLPLGREKVKRISILGQAAGDDSKGTSCSLRGCGSGAIGTGYGSGAGTFSYFVTPADGIGARAQQEKISYEFIGDSWNQAAAMDSALYADAAIEVANSVAGEEIGDVDGNYGDLNNLTLWHNAVPLIKNISSINNNTIVIVTSGQQIDLEPFIDNENVTAVIYSSYLGQDFGTVLAKVLFGDENPSGKLPFTIAKDVNDYIPVIEKVDVPDPVDKFTESIYVDYRYFDKYNKPVRYEFGYGLSYSNFSLSDIEIQTLQPFSENAEPAANYSETYQYKQSNMDPSEYTVPEGFKELANYTYPYIHDASSIKANSSYDYPEGYSTEQLDGPKSLAAGGLGGNHTCGMLVTLSLLKSQIKVLMLVGLHLNCMLDIQIMMNSQHLQCNYVDLKRCFWIKIILKLFLLN\n",
      "MLLPLYGLASFLVLSQAALVNTSAPQASNDDPFNHSPSFYPTPQGGR\n",
      "INDGK\n",
      "WQAAFYR\n",
      "AR\n",
      "ELVDQMSIAEK\n",
      "VNLTTGVGSASGPCSGNTGSVPR\n",
      "LNISSICVQDGPLSVR\n",
      "AADLTDVFPCGMAASSSFNK\n",
      "QLIYDR\n",
      "AVAIGSEFK\n",
      "GK\n",
      "GADAILGPVYGPMGVK\n",
      "AAGGR\n",
      "GWEGHGPDPYLEGVIAYLQTIGIQSQGVVSTAK\n",
      "HLIGNEQEHFR\n",
      "FAK\n",
      "K\n",
      "DK\n",
      "HAGK\n",
      "IDPGMFNTSSSLSSEIDDR\n",
      "AMHEIYLWPFAEAVR\n",
      "GGVSSIMCSYNK\n",
      "LNGSHACQNSYLLNYLLK\n",
      "EELGFQGFVMTDWGALYSGIDAANAGLDMDMPCEAQYFGGNLTTAVLNGTLPQDR\n",
      "LDDMATR\n",
      "ILSALIYSGVHNPDGPNYNAQTFLTEGHEYFK\n",
      "QQEGDIVVLNK\n",
      "HVDVR\n",
      "SDINR\n",
      "AVALR\n",
      "SAVEGVVLLK\n",
      "NEHETLPLGR\n",
      "EK\n",
      "VK\n",
      "R\n",
      "ISILGQAAGDDSK\n",
      "GTSCSLR\n",
      "GCGSGAIGTGYGSGAGTFSYFVTPADGIGAR\n",
      "AQQEK\n",
      "ISYEFIGDSWNQAAAMDSALYADAAIEVANSVAGEEIGDVDGNYGDLNNLTLWHNAVPLIK\n",
      "NISSINNNTIVIVTSGQQIDLEPFIDNENVTAVIYSSYLGQDFGTVLAK\n",
      "VLFGDENPSGK\n",
      "LPFTIAK\n",
      "DVNDYIPVIEK\n",
      "VDVPDPVDK\n",
      "FTESIYVDYR\n",
      "YFDK\n",
      "YNKPVR\n",
      "YEFGYGLSYSNFSLSDIEIQTLQPFSENAEPAANYSETYQYK\n",
      "QSNMDPSEYTVPEGFK\n",
      "ELANYTYPYIHDASSIK\n",
      "ANSSYDYPEGYSTEQLDGPK\n",
      "SLAAGGLGGNHTCGMLVTLSLLK\n",
      "SQIK\n",
      "VLMLVGLHLNCMLDIQIMMNSQHLQCNYVDLK\n",
      "R\n",
      "CFWIK\n",
      "IILK\n",
      "LFLLN\n"
     ]
    }
   ],
   "source": [
    "from pyopenms import *\n",
    "from urllib.request import urlretrieve\n",
    "dig = ProteaseDigestion()\n",
    "print(dig.getEnzymeName())\n",
    "bsa = \"\".join([l.strip() for l in open(\"uniprot-yourlist_M2021121692C7BAECDB1C5C413EE0E0348724B68236E5FAT.fasta\").readlines()[1:]])\n",
    "bsa = AASequence.fromString(bsa)\n",
    "print(bsa)\n",
    "result = []\n",
    "dig.digest(bsa, result)\n",
    "\n",
    "for s in result:\n",
    "    print(s.toString())"
   ]
  },
  {
   "cell_type": "code",
   "execution_count": 4,
   "id": "7759155b",
   "metadata": {},
   "outputs": [
    {
     "name": "stdout",
     "output_type": "stream",
     "text": [
      "33\n",
      "[b'Asp-N', b'Trypsin', b'Asp-N/B', b'Arg-C/P', b'Asp-N_ambic', b'Chymotrypsin', b'Chymotrypsin/P', b'CNBr', b'Formic_acid', b'Lys-C', b'Arg-C', b'leukocyte elastase', b'V8-DE', b'TrypChymo', b'unspecific cleavage', b'Lys-C/P', b'V8-E', b'PepsinA', b'staphylococcal protease/D', b'no cleavage', b'iodosobenzoate', b'Lys-N', b'Glu-C+P', b'cyanogen-bromide', b'2-iodobenzoate', b'Trypsin/P', b'glutamyl endopeptidase', b'Clostripain/P', b'proline endopeptidase', b'elastase-trypsin-chymotrypsin', b'Alpha-lytic protease', b'PepsinA + P', b'proline-endopeptidase/HKR']\n"
     ]
    }
   ],
   "source": [
    "names = []\n",
    "ProteaseDB().getAllNames(names)\n",
    "print(len(names))\n",
    "print(names)"
   ]
  },
  {
   "cell_type": "code",
   "execution_count": 5,
   "id": "38faa646",
   "metadata": {},
   "outputs": [
    {
     "name": "stdout",
     "output_type": "stream",
     "text": [
      "MLLPLYGLASFLVLSQAALVNTSAPQASNDDPFNHSPSFYPTPQGGRINDGK\n",
      "WQAAFYRARELVDQMSIAEK\n",
      "VNLTTGVGSASGPCSGNTGSVPRLNISSICVQDGPLSVRAADLTDVFPCGMAASSSFNK\n",
      "QLIYDRAVAIGSEFK\n",
      "GK\n",
      "GADAILGPVYGPMGVK\n",
      "AAGGRGWEGHGPDPYLEGVIAYLQTIGIQSQGVVSTAK\n",
      "HLIGNEQEHFRFAK\n",
      "K\n",
      "DK\n",
      "HAGK\n",
      "IDPGMFNTSSSLSSEIDDRAMHEIYLWPFAEAVRGGVSSIMCSYNK\n",
      "LNGSHACQNSYLLNYLLK\n",
      "EELGFQGFVMTDWGALYSGIDAANAGLDMDMPCEAQYFGGNLTTAVLNGTLPQDRLDDMATRILSALIYSGVHNPDGPNYNAQTFLTEGHEYFK\n",
      "QQEGDIVVLNK\n",
      "HVDVRSDINRAVALRSAVEGVVLLK\n",
      "NEHETLPLGREK\n",
      "VK\n",
      "RISILGQAAGDDSK\n",
      "GTSCSLRGCGSGAIGTGYGSGAGTFSYFVTPADGIGARAQQEK\n",
      "ISYEFIGDSWNQAAAMDSALYADAAIEVANSVAGEEIGDVDGNYGDLNNLTLWHNAVPLIK\n",
      "NISSINNNTIVIVTSGQQIDLEPFIDNENVTAVIYSSYLGQDFGTVLAK\n",
      "VLFGDENPSGK\n",
      "LPFTIAK\n",
      "DVNDYIPVIEK\n",
      "VDVPDPVDK\n",
      "FTESIYVDYRYFDK\n",
      "YNKPVRYEFGYGLSYSNFSLSDIEIQTLQPFSENAEPAANYSETYQYK\n",
      "QSNMDPSEYTVPEGFK\n",
      "ELANYTYPYIHDASSIK\n",
      "ANSSYDYPEGYSTEQLDGPK\n",
      "SLAAGGLGGNHTCGMLVTLSLLK\n",
      "SQIK\n",
      "VLMLVGLHLNCMLDIQIMMNSQHLQCNYVDLK\n",
      "RCFWIK\n",
      "IILK\n",
      "LFLLN\n"
     ]
    }
   ],
   "source": [
    "dig = ProteaseDigestion()\n",
    "dig.setEnzyme('Lys-C')\n",
    "bsa = \"\".join([l.strip() for l in open(\"uniprot-yourlist_M2021121692C7BAECDB1C5C413EE0E0348724B68236E5FAT.fasta\").readlines()[1:]])\n",
    "bsa = AASequence.fromString(bsa)\n",
    "result = []\n",
    "dig.digest(bsa, result)\n",
    "for s in result:\n",
    "    print(s.toString())"
   ]
  },
  {
   "cell_type": "code",
   "execution_count": null,
   "id": "a3d716ba",
   "metadata": {},
   "outputs": [],
   "source": []
  }
 ],
 "metadata": {
  "kernelspec": {
   "display_name": "Python 3",
   "language": "python",
   "name": "python3"
  },
  "language_info": {
   "codemirror_mode": {
    "name": "ipython",
    "version": 3
   },
   "file_extension": ".py",
   "mimetype": "text/x-python",
   "name": "python",
   "nbconvert_exporter": "python",
   "pygments_lexer": "ipython3",
   "version": "3.8.8"
  }
 },
 "nbformat": 4,
 "nbformat_minor": 5
}
