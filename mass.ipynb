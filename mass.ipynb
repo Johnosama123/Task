{
 "cells": [
  {
   "cell_type": "code",
   "execution_count": 5,
   "id": "982de2a1",
   "metadata": {},
   "outputs": [
    {
     "name": "stdout",
     "output_type": "stream",
     "text": [
      "Mass sequence 387.2481710527\n",
      "The peptide VAKA consists of the following amino acids:\n",
      "Valine : 117.0789793509\n",
      "Alanine : 89.0476792233\n",
      "Lysine : 146.1055284466\n",
      "Alanine : 89.0476792233\n",
      "441.2798662441\n"
     ]
    }
   ],
   "source": [
    "from pyopenms import *\n",
    "seq = AASequence.fromString(\"VAKA\")\n",
    "print(\"Mass sequence\",seq.getMonoWeight())\n",
    "print(\"The peptide\", str(seq), \"consists of the following amino acids:\")\n",
    "sum = 0\n",
    "for a in seq:\n",
    "    print(a.getName(),\":\",a.getMonoWeight())\n",
    "    sum=sum+a.getMonoWeight()\n",
    "print(sum)   #not equal because when we adding two amino acid occur missing in water"
   ]
  },
  {
   "cell_type": "code",
   "execution_count": null,
   "id": "2ddd5ecc",
   "metadata": {},
   "outputs": [],
   "source": []
  },
  {
   "cell_type": "code",
   "execution_count": null,
   "id": "87f1b8c5",
   "metadata": {},
   "outputs": [],
   "source": []
  }
 ],
 "metadata": {
  "kernelspec": {
   "display_name": "Python 3 (ipykernel)",
   "language": "python",
   "name": "python3"
  },
  "language_info": {
   "codemirror_mode": {
    "name": "ipython",
    "version": 3
   },
   "file_extension": ".py",
   "mimetype": "text/x-python",
   "name": "python",
   "nbconvert_exporter": "python",
   "pygments_lexer": "ipython3",
   "version": "3.9.7"
  }
 },
 "nbformat": 4,
 "nbformat_minor": 5
}
